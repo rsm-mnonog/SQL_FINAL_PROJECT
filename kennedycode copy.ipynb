{
 "cells": [
  {
   "cell_type": "code",
   "execution_count": 1,
   "id": "3c467161",
   "metadata": {},
   "outputs": [
    {
     "name": "stdout",
     "output_type": "stream",
     "text": [
      "Requirement already satisfied: snowflake-connector-python in /opt/conda/lib/python3.12/site-packages (3.17.3)\n",
      "Requirement already satisfied: asn1crypto<2.0.0,>0.24.0 in /opt/conda/lib/python3.12/site-packages (from snowflake-connector-python) (1.5.1)\n",
      "Requirement already satisfied: boto3>=1.24 in /opt/conda/lib/python3.12/site-packages (from snowflake-connector-python) (1.40.25)\n",
      "Requirement already satisfied: botocore>=1.24 in /opt/conda/lib/python3.12/site-packages (from snowflake-connector-python) (1.40.25)\n",
      "Requirement already satisfied: cffi<2.0.0,>=1.9 in /opt/conda/lib/python3.12/site-packages (from snowflake-connector-python) (1.17.1)\n",
      "Requirement already satisfied: cryptography>=3.1.0 in /opt/conda/lib/python3.12/site-packages (from snowflake-connector-python) (45.0.4)\n",
      "Requirement already satisfied: pyOpenSSL<26.0.0,>=22.0.0 in /opt/conda/lib/python3.12/site-packages (from snowflake-connector-python) (25.1.0)\n",
      "Requirement already satisfied: pyjwt<3.0.0 in /opt/conda/lib/python3.12/site-packages (from snowflake-connector-python) (2.10.1)\n",
      "Requirement already satisfied: pytz in /opt/conda/lib/python3.12/site-packages (from snowflake-connector-python) (2025.2)\n",
      "Requirement already satisfied: requests<3.0.0 in /opt/conda/lib/python3.12/site-packages (from snowflake-connector-python) (2.32.4)\n",
      "Requirement already satisfied: packaging in /opt/conda/lib/python3.12/site-packages (from snowflake-connector-python) (25.0)\n",
      "Requirement already satisfied: charset_normalizer<4,>=2 in /opt/conda/lib/python3.12/site-packages (from snowflake-connector-python) (3.4.2)\n",
      "Requirement already satisfied: idna<4,>=2.5 in /opt/conda/lib/python3.12/site-packages (from snowflake-connector-python) (3.10)\n",
      "Requirement already satisfied: certifi>=2017.4.17 in /opt/conda/lib/python3.12/site-packages (from snowflake-connector-python) (2025.6.15)\n",
      "Requirement already satisfied: typing_extensions<5,>=4.3 in /opt/conda/lib/python3.12/site-packages (from snowflake-connector-python) (4.14.0)\n",
      "Requirement already satisfied: filelock<4,>=3.5 in /opt/conda/lib/python3.12/site-packages (from snowflake-connector-python) (3.19.1)\n",
      "Requirement already satisfied: sortedcontainers>=2.4.0 in /opt/conda/lib/python3.12/site-packages (from snowflake-connector-python) (2.4.0)\n",
      "Requirement already satisfied: platformdirs<5.0.0,>=2.6.0 in /opt/conda/lib/python3.12/site-packages (from snowflake-connector-python) (4.3.8)\n",
      "Requirement already satisfied: tomlkit in /opt/conda/lib/python3.12/site-packages (from snowflake-connector-python) (0.13.3)\n",
      "Requirement already satisfied: pycparser in /opt/conda/lib/python3.12/site-packages (from cffi<2.0.0,>=1.9->snowflake-connector-python) (2.22)\n",
      "Requirement already satisfied: urllib3<3,>=1.21.1 in /opt/conda/lib/python3.12/site-packages (from requests<3.0.0->snowflake-connector-python) (2.4.0)\n",
      "Requirement already satisfied: jmespath<2.0.0,>=0.7.1 in /opt/conda/lib/python3.12/site-packages (from boto3>=1.24->snowflake-connector-python) (1.0.1)\n",
      "Requirement already satisfied: s3transfer<0.14.0,>=0.13.0 in /opt/conda/lib/python3.12/site-packages (from boto3>=1.24->snowflake-connector-python) (0.13.1)\n",
      "Requirement already satisfied: python-dateutil<3.0.0,>=2.1 in /opt/conda/lib/python3.12/site-packages (from botocore>=1.24->snowflake-connector-python) (2.9.0.post0)\n",
      "Requirement already satisfied: six>=1.5 in /opt/conda/lib/python3.12/site-packages (from python-dateutil<3.0.0,>=2.1->botocore>=1.24->snowflake-connector-python) (1.17.0)\n",
      "Note: you may need to restart the kernel to use updated packages.\n"
     ]
    }
   ],
   "source": [
    "pip install --upgrade snowflake-connector-python"
   ]
  },
  {
   "cell_type": "code",
   "execution_count": 2,
   "id": "e35112f8",
   "metadata": {},
   "outputs": [],
   "source": [
    "import snowflake.connector"
   ]
  },
  {
   "cell_type": "code",
   "execution_count": 3,
   "id": "44d7da3f",
   "metadata": {},
   "outputs": [],
   "source": [
    "# ---------- CONFIG ----------\n",
    "\n",
    "SNOWFLAKE = {\n",
    "    \"user\": \"kespann\",\n",
    "    \"password\": \"SnowFlakeUCSD09\",\n",
    "    \"account\": \"YS37434\",  # e.g., xy12345.us-west-2\n",
    "}\n"
   ]
  },
  {
   "cell_type": "code",
   "execution_count": 4,
   "id": "4d810f6c",
   "metadata": {},
   "outputs": [],
   "source": [
    "def run_sql(cs, sql):\n",
    "    print(\"\\n--- Executing ---\\n\" + sql)\n",
    "    cs.execute(sql)"
   ]
  },
  {
   "cell_type": "code",
   "execution_count": 5,
   "id": "dad4d55d",
   "metadata": {},
   "outputs": [],
   "source": [
    "## STAGING FILES\n",
    "\n",
    "# PUT … @stage/path/... → lets you load files into a subfolder within the stage.\n",
    "\n",
    "# 41 purchase CSVs - want to stage them in a structured way by country → state → city → year → month.\n"
   ]
  },
  {
   "cell_type": "code",
   "execution_count": 6,
   "id": "28f9ca9a",
   "metadata": {},
   "outputs": [],
   "source": [
    "import snowflake.connector\n",
    "\n",
    "# --- CONFIG ---\n",
    "SNOWFLAKE = {\n",
    "    \"user\": \"KESPANN\",\n",
    "    \"password\": \"NewStrongPassword123!\",\n",
    "    \"account\": \"sptiuvl-ys37434\",  # adjust if region needed, e.g., xy12345.us-west-2\n",
    "}\n",
    "\n",
    "# --- Helper functions ---\n",
    "def sf_connect():\n",
    "    return snowflake.connector.connect(\n",
    "        user=SNOWFLAKE[\"user\"],\n",
    "        password=SNOWFLAKE[\"password\"],\n",
    "        account=SNOWFLAKE[\"account\"],\n",
    "        warehouse=\"CASE_WH\",\n",
    "        database=\"CASE_DB\",\n",
    "        schema=\"CASE_SCHEMA\",\n",
    "        role=\"ACCOUNTADMIN\"\n",
    "    )\n",
    "\n",
    "def run_sql(cs, sql):\n",
    "    print(\"\\n--- Executing ---\\n\" + sql)\n",
    "    cs.execute(sql)\n",
    "\n",
    "# # --- Test connection ---\n",
    "# with sf_connect() as conn:\n",
    "#     cs = conn.cursor()\n",
    "#     run_sql(cs, \"SELECT CURRENT_DATE;\")\n",
    "#     print(cs.fetchone())\n"
   ]
  },
  {
   "cell_type": "code",
   "execution_count": 7,
   "id": "5bc16747",
   "metadata": {},
   "outputs": [],
   "source": [
    "with sf_connect() as conn:\n",
    "    cs = conn.cursor()\n",
    "\n",
    "    # warehouse + db/schema setup\n",
    "    cs.execute(\"CREATE WAREHOUSE IF NOT EXISTS CASE_WH WAREHOUSE_SIZE = 'XSMALL' AUTO_SUSPEND = 60 AUTO_RESUME = TRUE;\")\n",
    "    cs.execute(\"CREATE DATABASE IF NOT EXISTS CASE_DB;\")\n",
    "    cs.execute(\"USE DATABASE CASE_DB;\")\n",
    "    cs.execute(\"CREATE SCHEMA IF NOT EXISTS CASE_SCHEMA;\")\n",
    "    cs.execute(\"USE SCHEMA CASE_SCHEMA;\")\n",
    "\n",
    "    # stages\n",
    "    cs.execute(\"CREATE STAGE IF NOT EXISTS stg_purchases;\")\n",
    "    cs.execute(\"CREATE STAGE IF NOT EXISTS stg_invoices;\")\n",
    "    cs.execute(\"CREATE STAGE IF NOT EXISTS stg_supplier;\")\n",
    "\n",
    "    # file formats\n",
    "    cs.execute(\"\"\"\n",
    "        CREATE OR REPLACE FILE FORMAT ff_csv \n",
    "        TYPE = CSV \n",
    "        FIELD_OPTIONALLY_ENCLOSED_BY = '\"'\n",
    "        SKIP_HEADER = 1 \n",
    "        NULL_IF = ('', 'NULL')\n",
    "    \"\"\")\n",
    "    \n",
    "    cs.execute(\"\"\"\n",
    "        CREATE OR REPLACE FILE FORMAT ff_xml \n",
    "        TYPE = XML \n",
    "        STRIP_OUTER_ELEMENT = TRUE\n",
    "    \"\"\")\n"
   ]
  },
  {
   "cell_type": "code",
   "execution_count": 8,
   "id": "63a66487",
   "metadata": {},
   "outputs": [
    {
     "name": "stdout",
     "output_type": "stream",
     "text": [
      "Requirement already satisfied: psycopg2-binary in /opt/conda/lib/python3.12/site-packages (2.9.10)\n",
      "Requirement already satisfied: pandas in /opt/conda/lib/python3.12/site-packages (2.2.3)\n",
      "Requirement already satisfied: lxml in /opt/conda/lib/python3.12/site-packages (6.0.1)\n",
      "Requirement already satisfied: python-dotenv in /opt/conda/lib/python3.12/site-packages (1.1.1)\n",
      "Requirement already satisfied: numpy>=1.26.0 in /opt/conda/lib/python3.12/site-packages (from pandas) (2.2.6)\n",
      "Requirement already satisfied: python-dateutil>=2.8.2 in /opt/conda/lib/python3.12/site-packages (from pandas) (2.9.0.post0)\n",
      "Requirement already satisfied: pytz>=2020.1 in /opt/conda/lib/python3.12/site-packages (from pandas) (2025.2)\n",
      "Requirement already satisfied: tzdata>=2022.7 in /opt/conda/lib/python3.12/site-packages (from pandas) (2025.2)\n",
      "Requirement already satisfied: six>=1.5 in /opt/conda/lib/python3.12/site-packages (from python-dateutil>=2.8.2->pandas) (1.17.0)\n",
      "Note: you may need to restart the kernel to use updated packages.\n"
     ]
    }
   ],
   "source": [
    "%pip install psycopg2-binary pandas lxml python-dotenv"
   ]
  },
  {
   "cell_type": "code",
   "execution_count": 9,
   "id": "768c928c",
   "metadata": {},
   "outputs": [],
   "source": [
    "PATHS = {\n",
    "    \"purchases_dir\": \"/home/jovyan/Desktop/Summer_Q/SQL/SQL_FINAL_PROJECT/Data-5/MonthlyPOData\",   # folder with 41 CSVs\n",
    "    }"
   ]
  },
  {
   "cell_type": "code",
   "execution_count": null,
   "id": "b3646ad6",
   "metadata": {},
   "outputs": [],
   "source": [
    "import os, glob\n",
    "\n",
    "with sf_connect() as conn:\n",
    "    cs = conn.cursor()\n",
    "\n",
    "    # 1️⃣ PUT all your local CSVs into the purchases stage\n",
    "    run_sql(cs, f\"\"\"\n",
    "        PUT file:///{PATHS['purchases_dir']}/*.csv\n",
    "        @stg_purchases/United_States/California/San_Diego/2025/01/\n",
    "        AUTO_COMPRESS=TRUE;\n",
    "    \"\"\")\n",
    "\n",
    "    # 2️⃣ Create table for line-level purchases (adjust column names after preview)\n",
    "    run_sql(cs, \"\"\"\n",
    "        CREATE OR REPLACE TABLE PURCHASES_LINE (\n",
    "            PURCHASEORDERNUMBER VARCHAR,\n",
    "            RECEIVEDOUTERS NUMBER,\n",
    "            EXPECTEDUNITPRICEPEROUTER NUMBER,\n",
    "            -- add other columns you want to keep from CSVs\n",
    "            DUMMYCOL VARCHAR\n",
    "        );\n",
    "    \"\"\")\n",
    "\n",
    "    # 3️⃣ COPY staged CSVs into the purchases table\n",
    "    run_sql(cs, \"\"\"\n",
    "        COPY INTO PURCHASES_LINE\n",
    "        FROM @stg_purchases/United_States/California/San_Diego/2025/01/\n",
    "        FILE_FORMAT = (FORMAT_NAME = ff_csv)\n",
    "        ON_ERROR = 'CONTINUE';\n",
    "    \"\"\")\n",
    "\n",
    "    # 4️⃣ Create aggregated table with POAmount\n",
    "    run_sql(cs, \"\"\"\n",
    "        CREATE OR REPLACE TABLE PURCHASES_AGG AS\n",
    "        SELECT\n",
    "            PURCHASEORDERNUMBER,\n",
    "            SUM(RECEIVEDOUTERS * EXPECTEDUNITPRICEPEROUTER) AS POAMOUNT\n",
    "        FROM PURCHASES_LINE\n",
    "        GROUP BY PURCHASEORDERNUMBER;\n",
    "    \"\"\")\n"
   ]
  },
  {
   "cell_type": "code",
   "execution_count": null,
   "id": "468a8eeb",
   "metadata": {},
   "outputs": [],
   "source": [
    "with sf_connect() as conn:\n",
    "    cs = conn.cursor()\n",
    "    run_sql(cs, \"SELECT COUNT(*) FROM PURCHASES_LINE;\")\n",
    "    print(cs.fetchone())\n"
   ]
  },
  {
   "cell_type": "code",
   "execution_count": 10,
   "id": "550cc7df",
   "metadata": {},
   "outputs": [
    {
     "name": "stdout",
     "output_type": "stream",
     "text": [
      "\n",
      "--- Executing ---\n",
      "\n",
      "        CREATE OR REPLACE TABLE PURCHASES_RAW (\n",
      "            C1 VARCHAR, C2 VARCHAR, C3 VARCHAR, C4 VARCHAR, C5 VARCHAR,\n",
      "            C6 VARCHAR, C7 VARCHAR, C8 VARCHAR, C9 VARCHAR, C10 VARCHAR,\n",
      "            C11 VARCHAR, C12 VARCHAR, C13 VARCHAR, C14 VARCHAR, C15 VARCHAR,\n",
      "            C16 VARCHAR, C17 VARCHAR, C18 VARCHAR, C19 VARCHAR, C20 VARCHAR\n",
      "        );\n",
      "    \n",
      "\n",
      "--- Executing ---\n",
      "\n",
      "        COPY INTO PURCHASES_RAW\n",
      "        FROM @stg_purchases/United_States/California/San_Diego/2025/01/\n",
      "        FILE_FORMAT = (FORMAT_NAME = ff_csv)\n",
      "        ON_ERROR = 'CONTINUE';\n",
      "    \n",
      "\n",
      "--- Executing ---\n",
      "SELECT COUNT(*) FROM PURCHASES_RAW;\n",
      "Row count in PURCHASES_RAW: (0,)\n",
      "\n",
      "--- Executing ---\n",
      "SELECT * FROM PURCHASES_RAW LIMIT 10;\n"
     ]
    }
   ],
   "source": [
    "with sf_connect() as conn:\n",
    "    cs = conn.cursor()\n",
    "\n",
    "    # 1️⃣ Wide staging table - 20 columns (adjust number based on CSV header count)\n",
    "    run_sql(cs, \"\"\"\n",
    "        CREATE OR REPLACE TABLE PURCHASES_RAW (\n",
    "            C1 VARCHAR, C2 VARCHAR, C3 VARCHAR, C4 VARCHAR, C5 VARCHAR,\n",
    "            C6 VARCHAR, C7 VARCHAR, C8 VARCHAR, C9 VARCHAR, C10 VARCHAR,\n",
    "            C11 VARCHAR, C12 VARCHAR, C13 VARCHAR, C14 VARCHAR, C15 VARCHAR,\n",
    "            C16 VARCHAR, C17 VARCHAR, C18 VARCHAR, C19 VARCHAR, C20 VARCHAR\n",
    "        );\n",
    "    \"\"\")\n",
    "\n",
    "    # 2️⃣ Load ALL staged CSV data into raw table\n",
    "    run_sql(cs, \"\"\"\n",
    "        COPY INTO PURCHASES_RAW\n",
    "        FROM @stg_purchases/United_States/California/San_Diego/2025/01/\n",
    "        FILE_FORMAT = (FORMAT_NAME = ff_csv)\n",
    "        ON_ERROR = 'CONTINUE';\n",
    "    \"\"\")\n",
    "\n",
    "    # 3️⃣ Check row count\n",
    "    run_sql(cs, \"SELECT COUNT(*) FROM PURCHASES_RAW;\")\n",
    "    print(\"Row count in PURCHASES_RAW:\", cs.fetchone())\n",
    "\n",
    "    # 4️⃣ Peek at a few rows\n",
    "    run_sql(cs, \"SELECT * FROM PURCHASES_RAW LIMIT 10;\")\n",
    "    rows = cs.fetchall()\n",
    "    for r in rows:\n",
    "        print(r)\n"
   ]
  },
  {
   "cell_type": "code",
   "execution_count": 11,
   "id": "356207c0",
   "metadata": {},
   "outputs": [
    {
     "name": "stdout",
     "output_type": "stream",
     "text": [
      "\n",
      "--- Executing ---\n",
      "\n",
      "        CREATE OR REPLACE FILE FORMAT ff_csv\n",
      "        TYPE = CSV\n",
      "        FIELD_DELIMITER = ','\n",
      "        SKIP_HEADER = 1\n",
      "        NULL_IF = ('', 'NULL');\n",
      "    \n"
     ]
    }
   ],
   "source": [
    "with sf_connect() as conn:\n",
    "    cs = conn.cursor()\n",
    "\n",
    "    run_sql(cs, \"\"\"\n",
    "        CREATE OR REPLACE FILE FORMAT ff_csv\n",
    "        TYPE = CSV\n",
    "        FIELD_DELIMITER = ','\n",
    "        SKIP_HEADER = 1\n",
    "        NULL_IF = ('', 'NULL');\n",
    "    \"\"\")\n"
   ]
  },
  {
   "cell_type": "code",
   "execution_count": 12,
   "id": "a86aec96",
   "metadata": {},
   "outputs": [
    {
     "name": "stdout",
     "output_type": "stream",
     "text": [
      "\n",
      "--- Executing ---\n",
      "\n",
      "        COPY INTO PURCHASES_RAW\n",
      "        FROM @stg_purchases/United_States/California/San_Diego/2025/01/\n",
      "        FILE_FORMAT = (FORMAT_NAME = ff_csv)\n",
      "        ON_ERROR = 'CONTINUE';\n",
      "    \n",
      "\n",
      "--- Executing ---\n",
      "SELECT COUNT(*) FROM PURCHASES_RAW;\n",
      "Row count in PURCHASES_RAW: (0,)\n"
     ]
    }
   ],
   "source": [
    "with sf_connect() as conn:\n",
    "    cs = conn.cursor()\n",
    "\n",
    "    run_sql(cs, \"\"\"\n",
    "        COPY INTO PURCHASES_RAW\n",
    "        FROM @stg_purchases/United_States/California/San_Diego/2025/01/\n",
    "        FILE_FORMAT = (FORMAT_NAME = ff_csv)\n",
    "        ON_ERROR = 'CONTINUE';\n",
    "    \"\"\")\n",
    "\n",
    "    run_sql(cs, \"SELECT COUNT(*) FROM PURCHASES_RAW;\")\n",
    "    print(\"Row count in PURCHASES_RAW:\", cs.fetchone())\n"
   ]
  },
  {
   "cell_type": "code",
   "execution_count": null,
   "id": "8a861dda",
   "metadata": {},
   "outputs": [],
   "source": [
    "## not getting the data into the 'purchases_raw' table...^"
   ]
  },
  {
   "cell_type": "code",
   "execution_count": 13,
   "id": "92da7e0b",
   "metadata": {},
   "outputs": [
    {
     "name": "stdout",
     "output_type": "stream",
     "text": [
      "\n",
      "--- Executing ---\n",
      "\n",
      "        INSERT INTO PURCHASES_RAW\n",
      "        SELECT $1, $2, $3, $4, $5, $6, $7, $8, $9, $10,\n",
      "               $11, $12, $13, $14, $15, $16, $17, $18, $19, $20\n",
      "        FROM @stg_purchases/United_States/California/San_Diego/2025/01/\n",
      "        (FILE_FORMAT => ff_csv);\n",
      "    \n",
      "\n",
      "--- Executing ---\n",
      "SELECT COUNT(*) FROM PURCHASES_RAW;\n",
      "Row count in PURCHASES_RAW: (261865,)\n"
     ]
    }
   ],
   "source": [
    "with sf_connect() as conn:\n",
    "    cs = conn.cursor()\n",
    "\n",
    "    run_sql(cs, \"\"\"\n",
    "        INSERT INTO PURCHASES_RAW\n",
    "        SELECT $1, $2, $3, $4, $5, $6, $7, $8, $9, $10,\n",
    "               $11, $12, $13, $14, $15, $16, $17, $18, $19, $20\n",
    "        FROM @stg_purchases/United_States/California/San_Diego/2025/01/\n",
    "        (FILE_FORMAT => ff_csv);\n",
    "    \"\"\")\n",
    "\n",
    "    run_sql(cs, \"SELECT COUNT(*) FROM PURCHASES_RAW;\")\n",
    "    print(\"Row count in PURCHASES_RAW:\", cs.fetchone())\n"
   ]
  },
  {
   "cell_type": "code",
   "execution_count": 15,
   "id": "4b5991e4",
   "metadata": {},
   "outputs": [
    {
     "name": "stdout",
     "output_type": "stream",
     "text": [
      "\n",
      "--- Executing ---\n",
      "SELECT * FROM PURCHASES_RAW LIMIT 5;\n",
      "('106', '4', '3/1/2019', '7', '2', '3/21/2019', '293092', '1', None, None, '4', '3/4/2019 7:00', '469', '77', '92', '\"\"\"The Gu\"\" red shirt XML tag t-shirt (White) XXS\"', '92', '6', '84', '3/4/2019')\n",
      "('106', '4', '3/1/2019', '7', '2', '3/21/2019', '293092', '1', None, None, '4', '3/4/2019 7:00', '470', '78', '127', '\"\"\"The Gu\"\" red shirt XML tag t-shirt (White) XS\"', '127', '6', '84', '3/4/2019')\n",
      "('106', '4', '3/1/2019', '7', '2', '3/21/2019', '293092', '1', None, None, '4', '3/4/2019 7:00', '471', '80', '20', '\"\"\"The Gu\"\" red shirt XML tag t-shirt (White) M\"', '20', '6', '84', '3/4/2019')\n",
      "('106', '4', '3/1/2019', '7', '2', '3/21/2019', '293092', '1', None, None, '4', '3/4/2019 7:00', '472', '86', '74', '\"\"\"The Gu\"\" red shirt XML tag t-shirt (White) 5XL\"', '74', '6', '96', '3/4/2019')\n",
      "('106', '4', '3/1/2019', '7', '2', '3/21/2019', '293092', '1', None, None, '4', '3/4/2019 7:00', '473', '95', '22', '\"\"\"The Gu\"\" red shirt XML tag t-shirt (Black) XL\"', '22', '6', '90', '3/4/2019')\n"
     ]
    }
   ],
   "source": [
    "with sf_connect() as conn:\n",
    "    cs = conn.cursor()\n",
    "    run_sql(cs, \"SELECT * FROM PURCHASES_RAW LIMIT 5;\")\n",
    "    for r in cs.fetchall():\n",
    "        print(r)\n"
   ]
  },
  {
   "cell_type": "markdown",
   "id": "e1489d2c",
   "metadata": {},
   "source": [
    "### Clean the data into a proper table (PURCHASES_LINE)"
   ]
  },
  {
   "cell_type": "code",
   "execution_count": 17,
   "id": "3b17b481",
   "metadata": {},
   "outputs": [
    {
     "name": "stdout",
     "output_type": "stream",
     "text": [
      "\n",
      "--- Executing ---\n",
      "\n",
      "        CREATE OR REPLACE TABLE PURCHASES_LINE AS\n",
      "        SELECT\n",
      "            C1::VARCHAR AS PURCHASEORDERID,\n",
      "            C2::VARCHAR AS PURCHASEORDERLINEID,\n",
      "            TRY_TO_DATE(C3, 'MM/DD/YYYY') AS ORDERDATE,\n",
      "            TRY_TO_NUMBER(C4) AS SUPPLIERID,\n",
      "            TRY_TO_NUMBER(C5) AS RECEIVEDOUTERS,\n",
      "            TRY_TO_NUMBER(C14) AS EXPECTEDUNITPRICEPEROUTER\n",
      "        FROM PURCHASES_RAW;\n",
      "    \n",
      "\n",
      "--- Executing ---\n",
      "SELECT COUNT(*) FROM PURCHASES_LINE;\n",
      "Rows in PURCHASES_LINE: (261865,)\n",
      "\n",
      "--- Executing ---\n",
      "SELECT * FROM PURCHASES_LINE LIMIT 10;\n",
      "[('1', '2', datetime.date(2019, 1, 1), 9, 2, 150), ('1', '2', datetime.date(2019, 1, 1), 9, 2, 151), ('1', '2', datetime.date(2019, 1, 1), 9, 2, 152), ('10', '10', datetime.date(2019, 1, 2), 8, 2, 60), ('11', '12', datetime.date(2019, 1, 2), 7, 2, 1), ('11', '12', datetime.date(2019, 1, 2), 7, 2, 3), ('11', '12', datetime.date(2019, 1, 2), 7, 2, 15), ('12', '4', datetime.date(2019, 1, 3), 7, 2, 77), ('12', '4', datetime.date(2019, 1, 3), 7, 2, 101), ('12', '4', datetime.date(2019, 1, 3), 7, 2, 108)]\n"
     ]
    }
   ],
   "source": [
    "with sf_connect() as conn:\n",
    "    cs = conn.cursor()\n",
    "\n",
    "    run_sql(cs, \"\"\"\n",
    "        CREATE OR REPLACE TABLE PURCHASES_LINE AS\n",
    "        SELECT\n",
    "            C1::VARCHAR AS PURCHASEORDERID,\n",
    "            C2::VARCHAR AS PURCHASEORDERLINEID,\n",
    "            TRY_TO_DATE(C3, 'MM/DD/YYYY') AS ORDERDATE,\n",
    "            TRY_TO_NUMBER(C4) AS SUPPLIERID,\n",
    "            TRY_TO_NUMBER(C5) AS RECEIVEDOUTERS,\n",
    "            TRY_TO_NUMBER(C14) AS EXPECTEDUNITPRICEPEROUTER\n",
    "        FROM PURCHASES_RAW;\n",
    "    \"\"\")\n",
    "\n",
    "    # Check row count\n",
    "    run_sql(cs, \"SELECT COUNT(*) FROM PURCHASES_LINE;\")\n",
    "    print(\"Rows in PURCHASES_LINE:\", cs.fetchone())\n",
    "\n",
    "    # Preview first 10 rows\n",
    "    run_sql(cs, \"SELECT * FROM PURCHASES_LINE LIMIT 10;\")\n",
    "    print(cs.fetchall())\n",
    "\n"
   ]
  },
  {
   "cell_type": "markdown",
   "id": "aa43c162",
   "metadata": {},
   "source": [
    "### Aggregated totals into PURCHASES_AGG with the calculated field POAmount \n",
    "- (sum of ReceivedOuters × ExpectedUnitPricePerOuter per order)."
   ]
  },
  {
   "cell_type": "code",
   "execution_count": 18,
   "id": "d9a65d53",
   "metadata": {},
   "outputs": [
    {
     "name": "stdout",
     "output_type": "stream",
     "text": [
      "\n",
      "--- Executing ---\n",
      "\n",
      "        CREATE OR REPLACE TABLE PURCHASES_AGG AS\n",
      "        SELECT\n",
      "            PURCHASEORDERID,\n",
      "            SUM(RECEIVEDOUTERS * EXPECTEDUNITPRICEPEROUTER) AS POAMOUNT\n",
      "        FROM PURCHASES_LINE\n",
      "        GROUP BY PURCHASEORDERID;\n",
      "    \n",
      "\n",
      "--- Executing ---\n",
      "SELECT * FROM PURCHASES_AGG LIMIT 10;\n",
      "[('114', 408), ('151', 794), ('367', 1028), ('375', 1028), ('392', 794), ('399', 1028), ('1002', 154), ('954', 1028), ('965', 1162), ('975', 1162)]\n"
     ]
    }
   ],
   "source": [
    "with sf_connect() as conn:\n",
    "    cs = conn.cursor()\n",
    "\n",
    "    run_sql(cs, \"\"\"\n",
    "        CREATE OR REPLACE TABLE PURCHASES_AGG AS\n",
    "        SELECT\n",
    "            PURCHASEORDERID,\n",
    "            SUM(RECEIVEDOUTERS * EXPECTEDUNITPRICEPEROUTER) AS POAMOUNT\n",
    "        FROM PURCHASES_LINE\n",
    "        GROUP BY PURCHASEORDERID;\n",
    "    \"\"\")\n",
    "\n",
    "    run_sql(cs, \"SELECT * FROM PURCHASES_AGG LIMIT 10;\")\n",
    "    print(cs.fetchall())\n"
   ]
  },
  {
   "cell_type": "markdown",
   "id": "97c01264",
   "metadata": {},
   "source": [
    "### 3: Extract and load the supplier invoice XML data."
   ]
  },
  {
   "cell_type": "code",
   "execution_count": 20,
   "id": "2175e928",
   "metadata": {},
   "outputs": [
    {
     "name": "stdout",
     "output_type": "stream",
     "text": [
      "\n",
      "--- Executing ---\n",
      "\n",
      "        PUT 'file:///home/jovyan/Desktop/Summer_Q/SQL/SQL_FINAL_PROJECT/Data-5/Supplier Transactions XML.xml'\n",
      "        @stg_invoices\n",
      "        AUTO_COMPRESS=TRUE;\n",
      "    \n",
      "\n",
      "--- Executing ---\n",
      "\n",
      "        CREATE OR REPLACE TABLE INVOICES_RAW (XML VARIANT);\n",
      "    \n",
      "\n",
      "--- Executing ---\n",
      "\n",
      "        COPY INTO INVOICES_RAW\n",
      "        FROM @stg_invoices\n",
      "        FILE_FORMAT = (FORMAT_NAME = ff_xml)\n",
      "        ON_ERROR = 'CONTINUE';\n",
      "    \n",
      "\n",
      "--- Executing ---\n",
      "\n",
      "        CREATE OR REPLACE TABLE INVOICES AS\n",
      "        SELECT\n",
      "            inv.value:InvoiceNumber::string       AS INVOICENUMBER,\n",
      "            TRY_TO_DATE(inv.value:InvoiceDate::string) AS INVOICEDATE,\n",
      "            inv.value:PurchaseOrderNumber::string AS PURCHASEORDERNUMBER,\n",
      "            TRY_TO_NUMBER(inv.value:AmountExcludingTax::string) AS AMOUNTEXCLUDINGTAX\n",
      "        FROM INVOICES_RAW,\n",
      "             LATERAL FLATTEN(input => XML:\"Invoices\".\"Invoice\") inv;\n",
      "    \n",
      "\n",
      "--- Executing ---\n",
      "SELECT * FROM INVOICES LIMIT 10;\n"
     ]
    }
   ],
   "source": [
    "# Add XML file path\n",
    "PATHS[\"invoice_xml\"] = \"/home/jovyan/Desktop/Summer_Q/SQL/SQL_FINAL_PROJECT/Data-5/Supplier Transactions XML.xml\"\n",
    "\n",
    "with sf_connect() as conn:\n",
    "    cs = conn.cursor()\n",
    "\n",
    "    # 1️⃣ Stage the XML file\n",
    "    run_sql(cs, f\"\"\"\n",
    "        PUT 'file://{PATHS['invoice_xml']}'\n",
    "        @stg_invoices\n",
    "        AUTO_COMPRESS=TRUE;\n",
    "    \"\"\")\n",
    "\n",
    "    # 2️⃣ Create raw XML table\n",
    "    run_sql(cs, \"\"\"\n",
    "        CREATE OR REPLACE TABLE INVOICES_RAW (XML VARIANT);\n",
    "    \"\"\")\n",
    "\n",
    "    # 3️⃣ Load XML into raw table\n",
    "    run_sql(cs, \"\"\"\n",
    "        COPY INTO INVOICES_RAW\n",
    "        FROM @stg_invoices\n",
    "        FILE_FORMAT = (FORMAT_NAME = ff_xml)\n",
    "        ON_ERROR = 'CONTINUE';\n",
    "    \"\"\")\n",
    "\n",
    "    # 4️⃣ Shred XML into relational form\n",
    "    # ⚠️ Tag names below (\"InvoiceNumber\", \"InvoiceDate\", etc.) may need adjustment\n",
    "    run_sql(cs, \"\"\"\n",
    "        CREATE OR REPLACE TABLE INVOICES AS\n",
    "        SELECT\n",
    "            inv.value:InvoiceNumber::string       AS INVOICENUMBER,\n",
    "            TRY_TO_DATE(inv.value:InvoiceDate::string) AS INVOICEDATE,\n",
    "            inv.value:PurchaseOrderNumber::string AS PURCHASEORDERNUMBER,\n",
    "            TRY_TO_NUMBER(inv.value:AmountExcludingTax::string) AS AMOUNTEXCLUDINGTAX\n",
    "        FROM INVOICES_RAW,\n",
    "             LATERAL FLATTEN(input => XML:\"Invoices\".\"Invoice\") inv;\n",
    "    \"\"\")\n",
    "\n",
    "    # 5️⃣ Preview shredded data\n",
    "    run_sql(cs, \"SELECT * FROM INVOICES LIMIT 10;\")\n",
    "    rows = cs.fetchall()\n",
    "    for r in rows:\n",
    "        print(r)\n"
   ]
  },
  {
   "cell_type": "code",
   "execution_count": 21,
   "id": "892a7e09",
   "metadata": {},
   "outputs": [
    {
     "name": "stdout",
     "output_type": "stream",
     "text": [
      "\n",
      "--- Executing ---\n",
      "SELECT XML FROM INVOICES_RAW LIMIT 1;\n",
      "<row>\n",
      "  <SupplierTransactionID>134</SupplierTransactionID>\n",
      "  <SupplierID>2</SupplierID>\n",
      "  <TransactionTypeID>5</TransactionTypeID>\n",
      "  <PurchaseOrderID>1</PurchaseOrderID>\n",
      "  <PaymentMethodID>4</PaymentMethodID>\n",
      "  <SupplierInvoiceNumber>7290</SupplierInvoiceNumber>\n",
      "  <TransactionDate>2019-01-02</TransactionDate>\n",
      "  <AmountExcludingTax>313.50</AmountExcludingTax>\n",
      "  <TaxAmount>47.03</TaxAmount>\n",
      "  <TransactionAmount>360.53</TransactionAmount>\n",
      "  <OutstandingBalance>0.00</OutstandingBalance>\n",
      "  <FinalizationDate>2019-01-07</FinalizationDate>\n",
      "  <IsFinalized>1</IsFinalized>\n",
      "  <LastEditedBy>4</LastEditedBy>\n",
      "  <LastEditedWhen>2019-01-07 09:00:00.0000000</LastEditedWhen>\n",
      "</row>\n"
     ]
    }
   ],
   "source": [
    "with sf_connect() as conn:\n",
    "    cs = conn.cursor()\n",
    "\n",
    "    # Look at one raw XML record to understand its structure\n",
    "    run_sql(cs, \"SELECT XML FROM INVOICES_RAW LIMIT 1;\")\n",
    "    row = cs.fetchone()\n",
    "    print(row[0])\n"
   ]
  },
  {
   "cell_type": "code",
   "execution_count": 22,
   "id": "a373c2e5",
   "metadata": {},
   "outputs": [
    {
     "name": "stdout",
     "output_type": "stream",
     "text": [
      "\n",
      "--- Executing ---\n",
      "\n",
      "        CREATE OR REPLACE TABLE INVOICES AS\n",
      "        SELECT\n",
      "            inv.value:SupplierTransactionID::string    AS SUPPLIERTRANSACTIONID,\n",
      "            inv.value:SupplierID::string               AS SUPPLIERID,\n",
      "            inv.value:PurchaseOrderID::string          AS PURCHASEORDERID,\n",
      "            inv.value:SupplierInvoiceNumber::string    AS INVOICENUMBER,\n",
      "            TRY_TO_DATE(inv.value:TransactionDate::string, 'YYYY-MM-DD') AS INVOICEDATE,\n",
      "            TRY_TO_NUMBER(inv.value:AmountExcludingTax::string) AS AMOUNTEXCLUDINGTAX,\n",
      "            TRY_TO_NUMBER(inv.value:TransactionAmount::string)  AS TRANSACTIONAMOUNT\n",
      "        FROM INVOICES_RAW,\n",
      "             LATERAL FLATTEN(input => XML:\"row\") inv;\n",
      "    \n",
      "\n",
      "--- Executing ---\n",
      "SELECT * FROM INVOICES LIMIT 10;\n",
      "[]\n"
     ]
    }
   ],
   "source": [
    "with sf_connect() as conn:\n",
    "    cs = conn.cursor()\n",
    "\n",
    "    run_sql(cs, \"\"\"\n",
    "        CREATE OR REPLACE TABLE INVOICES AS\n",
    "        SELECT\n",
    "            inv.value:SupplierTransactionID::string    AS SUPPLIERTRANSACTIONID,\n",
    "            inv.value:SupplierID::string               AS SUPPLIERID,\n",
    "            inv.value:PurchaseOrderID::string          AS PURCHASEORDERID,\n",
    "            inv.value:SupplierInvoiceNumber::string    AS INVOICENUMBER,\n",
    "            TRY_TO_DATE(inv.value:TransactionDate::string, 'YYYY-MM-DD') AS INVOICEDATE,\n",
    "            TRY_TO_NUMBER(inv.value:AmountExcludingTax::string) AS AMOUNTEXCLUDINGTAX,\n",
    "            TRY_TO_NUMBER(inv.value:TransactionAmount::string)  AS TRANSACTIONAMOUNT\n",
    "        FROM INVOICES_RAW,\n",
    "             LATERAL FLATTEN(input => XML:\"row\") inv;\n",
    "    \"\"\")\n",
    "\n",
    "    # Preview shredded table\n",
    "    run_sql(cs, \"SELECT * FROM INVOICES LIMIT 10;\")\n",
    "    print(cs.fetchall())\n"
   ]
  },
  {
   "cell_type": "code",
   "execution_count": 23,
   "id": "16b1c909",
   "metadata": {},
   "outputs": [
    {
     "name": "stdout",
     "output_type": "stream",
     "text": [
      "\n",
      "--- Executing ---\n",
      "\n",
      "        CREATE OR REPLACE TABLE INVOICES AS\n",
      "        SELECT\n",
      "            XML:SupplierTransactionID::string    AS SUPPLIERTRANSACTIONID,\n",
      "            XML:SupplierID::string               AS SUPPLIERID,\n",
      "            XML:PurchaseOrderID::string          AS PURCHASEORDERID,\n",
      "            XML:SupplierInvoiceNumber::string    AS INVOICENUMBER,\n",
      "            TRY_TO_DATE(XML:TransactionDate::string, 'YYYY-MM-DD') AS INVOICEDATE,\n",
      "            TRY_TO_NUMBER(XML:AmountExcludingTax::string) AS AMOUNTEXCLUDINGTAX,\n",
      "            TRY_TO_NUMBER(XML:TransactionAmount::string)  AS TRANSACTIONAMOUNT\n",
      "        FROM INVOICES_RAW;\n",
      "    \n",
      "\n",
      "--- Executing ---\n",
      "SELECT * FROM INVOICES LIMIT 10;\n",
      "[('0', '1', '3', '5', None, 7, 9), ('0', '1', '3', '5', None, 7, 9), ('0', '1', '3', '5', None, 7, 9), ('0', '1', '3', '5', None, 7, 9), ('0', '1', '3', '5', None, 7, 9), ('0', '1', '3', '5', None, 7, 9), ('0', '1', '3', '5', None, 7, 9), ('0', '1', '3', '5', None, 7, 9), ('0', '1', '3', '5', None, 7, 9), ('0', '1', '3', '5', None, 7, 9)]\n"
     ]
    }
   ],
   "source": [
    "with sf_connect() as conn:\n",
    "    cs = conn.cursor()\n",
    "\n",
    "    run_sql(cs, \"\"\"\n",
    "        CREATE OR REPLACE TABLE INVOICES AS\n",
    "        SELECT\n",
    "            XML:SupplierTransactionID::string    AS SUPPLIERTRANSACTIONID,\n",
    "            XML:SupplierID::string               AS SUPPLIERID,\n",
    "            XML:PurchaseOrderID::string          AS PURCHASEORDERID,\n",
    "            XML:SupplierInvoiceNumber::string    AS INVOICENUMBER,\n",
    "            TRY_TO_DATE(XML:TransactionDate::string, 'YYYY-MM-DD') AS INVOICEDATE,\n",
    "            TRY_TO_NUMBER(XML:AmountExcludingTax::string) AS AMOUNTEXCLUDINGTAX,\n",
    "            TRY_TO_NUMBER(XML:TransactionAmount::string)  AS TRANSACTIONAMOUNT\n",
    "        FROM INVOICES_RAW;\n",
    "    \"\"\")\n",
    "\n",
    "    # Preview\n",
    "    run_sql(cs, \"SELECT * FROM INVOICES LIMIT 10;\")\n",
    "    print(cs.fetchall())\n"
   ]
  },
  {
   "cell_type": "markdown",
   "id": "b2a40bed",
   "metadata": {},
   "source": [
    "### Step 4"
   ]
  },
  {
   "cell_type": "code",
   "execution_count": 24,
   "id": "fd633477",
   "metadata": {},
   "outputs": [
    {
     "name": "stdout",
     "output_type": "stream",
     "text": [
      "\n",
      "--- Executing ---\n",
      "\n",
      "        CREATE OR REPLACE TABLE PURCHASE_ORDERS_AND_INVOICES AS\n",
      "        SELECT\n",
      "            i.PURCHASEORDERID,\n",
      "            i.INVOICENUMBER,\n",
      "            i.INVOICEDATE,\n",
      "            i.AMOUNTEXCLUDINGTAX,\n",
      "            p.POAMOUNT,\n",
      "            (i.AMOUNTEXCLUDINGTAX - p.POAMOUNT) AS INVOICED_VS_QUOTED\n",
      "        FROM INVOICES i\n",
      "        JOIN PURCHASES_AGG p\n",
      "          ON i.PURCHASEORDERID = p.PURCHASEORDERID;\n",
      "    \n",
      "\n",
      "--- Executing ---\n",
      "SELECT * FROM PURCHASE_ORDERS_AND_INVOICES LIMIT 10;\n",
      "('3', '5', None, 7, 1128, -1121)\n",
      "('3', '5', None, 7, 1128, -1121)\n",
      "('3', '5', None, 7, 1128, -1121)\n",
      "('3', '5', None, 7, 1128, -1121)\n",
      "('3', '5', None, 7, 1128, -1121)\n",
      "('3', '5', None, 7, 1128, -1121)\n",
      "('3', '5', None, 7, 1128, -1121)\n",
      "('3', '5', None, 7, 1128, -1121)\n",
      "('3', '5', None, 7, 1128, -1121)\n",
      "('3', '5', None, 7, 1128, -1121)\n",
      "\n",
      "--- Executing ---\n",
      "SELECT COUNT(*) FROM PURCHASE_ORDERS_AND_INVOICES;\n",
      "Rows in PURCHASE_ORDERS_AND_INVOICES: (2438,)\n"
     ]
    }
   ],
   "source": [
    "with sf_connect() as conn:\n",
    "    cs = conn.cursor()\n",
    "\n",
    "    # Create a materialized view (or table if MV not supported)\n",
    "    run_sql(cs, \"\"\"\n",
    "        CREATE OR REPLACE TABLE PURCHASE_ORDERS_AND_INVOICES AS\n",
    "        SELECT\n",
    "            i.PURCHASEORDERID,\n",
    "            i.INVOICENUMBER,\n",
    "            i.INVOICEDATE,\n",
    "            i.AMOUNTEXCLUDINGTAX,\n",
    "            p.POAMOUNT,\n",
    "            (i.AMOUNTEXCLUDINGTAX - p.POAMOUNT) AS INVOICED_VS_QUOTED\n",
    "        FROM INVOICES i\n",
    "        JOIN PURCHASES_AGG p\n",
    "          ON i.PURCHASEORDERID = p.PURCHASEORDERID;\n",
    "    \"\"\")\n",
    "\n",
    "    # Preview result\n",
    "    run_sql(cs, \"SELECT * FROM PURCHASE_ORDERS_AND_INVOICES LIMIT 10;\")\n",
    "    rows = cs.fetchall()\n",
    "    for r in rows:\n",
    "        print(r)\n",
    "\n",
    "    # Count rows\n",
    "    run_sql(cs, \"SELECT COUNT(*) FROM PURCHASE_ORDERS_AND_INVOICES;\")\n",
    "    print(\"Rows in PURCHASE_ORDERS_AND_INVOICES:\", cs.fetchone())\n"
   ]
  },
  {
   "cell_type": "markdown",
   "id": "64a3570b",
   "metadata": {},
   "source": [
    "### Step 5"
   ]
  },
  {
   "cell_type": "code",
   "execution_count": 25,
   "id": "22208b53",
   "metadata": {},
   "outputs": [
    {
     "name": "stdout",
     "output_type": "stream",
     "text": [
      "\n",
      "--- Executing ---\n",
      "SELECT COUNT(*) FROM PURCHASE_ORDERS_AND_INVOICES;\n",
      "Row count: (2438,)\n",
      "\n",
      "--- Executing ---\n",
      "SELECT * FROM PURCHASE_ORDERS_AND_INVOICES LIMIT 10;\n",
      "[('3', '5', None, 7, 1128, -1121), ('3', '5', None, 7, 1128, -1121), ('3', '5', None, 7, 1128, -1121), ('3', '5', None, 7, 1128, -1121), ('3', '5', None, 7, 1128, -1121), ('3', '5', None, 7, 1128, -1121), ('3', '5', None, 7, 1128, -1121), ('3', '5', None, 7, 1128, -1121), ('3', '5', None, 7, 1128, -1121), ('3', '5', None, 7, 1128, -1121)]\n",
      "\n",
      "--- Executing ---\n",
      "\n",
      "        SELECT\n",
      "            AVG(INVOICED_VS_QUOTED) AS avg_diff,\n",
      "            MIN(INVOICED_VS_QUOTED) AS min_diff,\n",
      "            MAX(INVOICED_VS_QUOTED) AS max_diff\n",
      "        FROM PURCHASE_ORDERS_AND_INVOICES;\n",
      "    \n",
      "(Decimal('-1121.000000'), -1121, -1121)\n"
     ]
    }
   ],
   "source": [
    "## quick check\n",
    "\n",
    "with sf_connect() as conn:\n",
    "    cs = conn.cursor()\n",
    "\n",
    "    # Count rows in join table\n",
    "    run_sql(cs, \"SELECT COUNT(*) FROM PURCHASE_ORDERS_AND_INVOICES;\")\n",
    "    print(\"Row count:\", cs.fetchone())\n",
    "\n",
    "    # Preview a few results\n",
    "    run_sql(cs, \"SELECT * FROM PURCHASE_ORDERS_AND_INVOICES LIMIT 10;\")\n",
    "    print(cs.fetchall())\n",
    "\n",
    "    # Optional: sanity check some differences\n",
    "    run_sql(cs, \"\"\"\n",
    "        SELECT\n",
    "            AVG(INVOICED_VS_QUOTED) AS avg_diff,\n",
    "            MIN(INVOICED_VS_QUOTED) AS min_diff,\n",
    "            MAX(INVOICED_VS_QUOTED) AS max_diff\n",
    "        FROM PURCHASE_ORDERS_AND_INVOICES;\n",
    "    \"\"\")\n",
    "    print(cs.fetchone())\n"
   ]
  },
  {
   "cell_type": "code",
   "execution_count": null,
   "id": "dea543e4",
   "metadata": {},
   "outputs": [],
   "source": [
    "import psycopg2\n",
    "import csv\n",
    "\n",
    "PG = {\n",
    "    \"host\": \"localhost\",      # or your Postgres host\n",
    "    \"port\": 5432,             # default port\n",
    "    \"dbname\": \"your_db_name\", # database where supplier_case lives\n",
    "    \"user\": \"your_pg_user\",\n",
    "    \"password\": \"your_pg_password\"\n",
    "}\n",
    "\n",
    "# File path for local export\n",
    "PATHS[\"supplier_case_csv\"] = \"/home/jovyan/Desktop/Summer_Q/SQL/SQL_FINAL_PROJECT/Data-5/supplier_case.csv\"\n"
   ]
  },
  {
   "cell_type": "code",
   "execution_count": null,
   "id": "944c090a",
   "metadata": {},
   "outputs": [],
   "source": [
    "with psycopg2.connect(**PG) as pgconn:\n",
    "    with pgconn.cursor() as cur, open(PATHS[\"supplier_case_csv\"], \"w\", newline=\"\", encoding=\"utf-8\") as out:\n",
    "        cur.copy_expert(\"COPY (SELECT * FROM supplier_case) TO STDOUT WITH CSV HEADER\", out)\n",
    "\n",
    "print(\"Exported supplier_case to CSV:\", PATHS[\"supplier_case_csv\"])\n"
   ]
  },
  {
   "cell_type": "code",
   "execution_count": null,
   "id": "2d31b5fc",
   "metadata": {},
   "outputs": [],
   "source": [
    "with sf_connect() as conn:\n",
    "    cs = conn.cursor()\n",
    "\n",
    "    # Stage the CSV\n",
    "    run_sql(cs, f\"\"\"\n",
    "        PUT 'file://{PATHS['supplier_case_csv']}'\n",
    "        @stg_supplier\n",
    "        AUTO_COMPRESS=TRUE;\n",
    "    \"\"\")\n",
    "\n",
    "    # Create the supplier_case table (adjust columns if needed after preview)\n",
    "    run_sql(cs, \"\"\"\n",
    "        CREATE OR REPLACE TABLE SUPPLIER_CASE (\n",
    "            SUPPLIERID VARCHAR,\n",
    "            SUPPLIERNAME VARCHAR,\n",
    "            POSTALPOSTALCODE VARCHAR,\n",
    "            OTHERCOLUMNS VARCHAR  -- add more depending on CSV header\n",
    "        );\n",
    "    \"\"\")\n",
    "\n",
    "    # Copy staged data into Snowflake\n",
    "    run_sql(cs, \"\"\"\n",
    "        COPY INTO SUPPLIER_CASE\n",
    "        FROM @stg_supplier\n",
    "        FILE_FORMAT = (FORMAT_NAME = ff_csv)\n",
    "        ON_ERROR = 'CONTINUE';\n",
    "    \"\"\")\n",
    "\n",
    "    # Check row count\n",
    "    run_sql(cs, \"SELECT COUNT(*) FROM SUPPLIER_CASE;\")\n",
    "    print(\"Rows in SUPPLIER_CASE:\", cs.fetchone())\n",
    "\n",
    "    # Preview\n",
    "    run_sql(cs, \"SELECT * FROM SUPPLIER_CASE LIMIT 10;\")\n",
    "    print(cs.fetchall())\n"
   ]
  },
  {
   "cell_type": "markdown",
   "id": "3ab95896",
   "metadata": {},
   "source": [
    "### Step 6"
   ]
  },
  {
   "cell_type": "code",
   "execution_count": null,
   "id": "c41e20ce",
   "metadata": {},
   "outputs": [],
   "source": []
  }
 ],
 "metadata": {
  "kernelspec": {
   "display_name": "base",
   "language": "python",
   "name": "python3"
  },
  "language_info": {
   "codemirror_mode": {
    "name": "ipython",
    "version": 3
   },
   "file_extension": ".py",
   "mimetype": "text/x-python",
   "name": "python",
   "nbconvert_exporter": "python",
   "pygments_lexer": "ipython3",
   "version": "3.12.11"
  }
 },
 "nbformat": 4,
 "nbformat_minor": 5
}
